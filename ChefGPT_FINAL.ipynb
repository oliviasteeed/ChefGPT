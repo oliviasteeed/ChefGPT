{
  "nbformat": 4,
  "nbformat_minor": 0,
  "metadata": {
    "colab": {
      "provenance": [],
      "authorship_tag": "ABX9TyMTTETZ8j9soChmYPpDMveq",
      "include_colab_link": true
    },
    "kernelspec": {
      "name": "python3",
      "display_name": "Python 3"
    },
    "language_info": {
      "name": "python"
    }
  },
  "cells": [
    {
      "cell_type": "markdown",
      "metadata": {
        "id": "view-in-github",
        "colab_type": "text"
      },
      "source": [
        "<a href=\"https://colab.research.google.com/github/oliviasteeed/ChefGPT/blob/main/ChefGPT_FINAL.ipynb\" target=\"_parent\"><img src=\"https://colab.research.google.com/assets/colab-badge.svg\" alt=\"Open In Colab\"/></a>"
      ]
    },
    {
      "cell_type": "markdown",
      "source": [
        "## Chef GPT: IAT 360 Final Project\n",
        "Olivia Steed & Welle Dias Ouambo\n",
        "\n",
        "This project returns a recipe suggestion based on input available ingredients. It uses RAG retrieval to match the input to the closest recipe, and then a fine-tuned version of GPT2 to return the result in a recipe format."
      ],
      "metadata": {
        "id": "IWB320CgD_Jv"
      }
    },
    {
      "cell_type": "markdown",
      "source": [
        "### Import Dependencies"
      ],
      "metadata": {
        "id": "-CzUiQFlGiWM"
      }
    },
    {
      "cell_type": "code",
      "source": [
        "import torch\n",
        "from transformers import GPT2Tokenizer, GPT2LMHeadModel, Trainer, TrainingArguments\n",
        "from datasets import load_dataset, Dataset\n",
        "import pandas as pd\n",
        "import csv\n",
        "import glob\n",
        "from transformers import pipeline\n",
        "from sentence_transformers import SentenceTransformer\n",
        "import numpy as np\n",
        "import ast"
      ],
      "metadata": {
        "id": "omgNigmMGkm9"
      },
      "execution_count": 19,
      "outputs": []
    },
    {
      "cell_type": "markdown",
      "source": [
        "### Load data"
      ],
      "metadata": {
        "id": "VaTvlangEbxp"
      }
    },
    {
      "cell_type": "code",
      "execution_count": 13,
      "metadata": {
        "id": "UBaXCszCDf7s"
      },
      "outputs": [],
      "source": [
        "# open combined recipes dataframe csv - this is data for RAG to draw from (run if starting from a new runtime)\n",
        "df = pd.read_csv('combined_recipes_dataframe.csv')\n",
        "\n",
        "embedding_model = SentenceTransformer('all-MiniLM-L6-v2')  # use lightweight model for embedding\n",
        "embeddings = embedding_model.encode(df['Embedding'])  # load embeddings based on key ingredients"
      ]
    },
    {
      "cell_type": "code",
      "source": [
        "# load the fine-tuned GPT2 model\n",
        "model = GPT2LMHeadModel.from_pretrained(\"/Users/oliviasteed/Desktop/test 2/gpt2_recipe_model\")\n",
        "tokenizer = GPT2Tokenizer.from_pretrained(\"/Users/oliviasteed/Desktop/test 2/gpt2_recipe_tokenizer\")"
      ],
      "metadata": {
        "id": "ocgpjaiHFL_M"
      },
      "execution_count": 7,
      "outputs": []
    },
    {
      "cell_type": "markdown",
      "source": [
        "### RAG retrieval and generate result"
      ],
      "metadata": {
        "id": "G-VslXXUHQZr"
      }
    },
    {
      "cell_type": "code",
      "source": [
        "# RAG retrieval functions to get closest recipe and return it using llm\n",
        "\n",
        "def retrieve_with_pandas(query, top_k=1):\n",
        "\n",
        "    # Generate embedding for the query\n",
        "    query_embedding = embedding_model.encode([query])[0]\n",
        "\n",
        "    # Compute similarity scores\n",
        "\n",
        "    similarities = np.dot(embeddings, query_embedding) / (np.linalg.norm(embeddings, axis=1) * np.linalg.norm(query_embedding))\n",
        "    df['Similarity'] = similarities\n",
        "\n",
        "    # Sort by similarity and return top-k results\n",
        "    results = df.sort_values(by=\"Similarity\", ascending=False).head(top_k)\n",
        "    return results[[\"Title\", \"Ingredients\", \"Instructions\", \"Similarity\"]]\n",
        "\n",
        "\n",
        "# Define a function to use RAG\n",
        "# def generate_with_rag(query):\n",
        "\n",
        "#     # Retrieve context\n",
        "#     context = retrieve_with_pandas(query)[[\"Title\", \"Ingredients\", \"Instructions\"]]\n",
        "\n",
        "#     # Combine context with query\n",
        "#     input_text = f\"Explain a recipe to make a meal using these ingredients:({query}). Start with this title: {context['Title'].iloc[0]}. Then provide a list of these ingredients: {context['Ingredients'].iloc[0]}. Then explain a list of instructions: {context['Instructions'].iloc[0]}.\"\n",
        "\n",
        "#     # Use LLM to generate a response\n",
        "#     response = llm(input_text, max_length=700, num_return_sequences=3, truncation=True)\n",
        "\n",
        "#     recipe_title = f\"Recipe title is: {context['Title'].iloc[0]}.\"\n",
        "#     recipe_ingr = f\"Recipe ingredients are: {context['Ingredients'].iloc[0]}.\"\n",
        "#     recipe_instr = f\"Recipe instructions are: {context['Instructions'].iloc[0]}.\"\n",
        "\n",
        "#     title_response = llm(recipe_title, max_length=300, num_return_sequences=1)\n",
        "#     ingr_response = llm(recipe_ingr, max_length=400, num_return_sequences=1)\n",
        "#     instr_response = llm(recipe_instr, max_length=400, num_return_sequences=1)\n",
        "\n",
        "#     # return response\n",
        "#     return title_response[0]['generated_text'], ingr_response[0]['generated_text'], instr_response[0]['generated_text']\n"
      ],
      "metadata": {
        "id": "2lAm1CtqEn1J"
      },
      "execution_count": 36,
      "outputs": []
    },
    {
      "cell_type": "code",
      "source": [
        "# function to generate recipe based on input ingredients\n",
        "\n",
        "def generate_recipe(query):\n",
        "\n",
        "    # prompt = f\"Here's what you can make with: {ingredients} as key ingredients \\n \\nIngredients: {ingredients}\\nInstructions:\"\n",
        "\n",
        "    context = retrieve_with_pandas(query)[[\"Title\", \"Ingredients\", \"Instructions\"]]\n",
        "\n",
        "    prompt = f\"You can make {context['Title'].iloc[0]} with {query} as key ingredients \\n\\n Ingredients: {context['Ingredients'].iloc[0]} \\n\\n Instructions:\"\n",
        "\n",
        "\n",
        "    inputs = tokenizer(prompt, return_tensors=\"pt\")\n",
        "\n",
        "    outputs = model.generate(inputs[\"input_ids\"], max_length=500, num_return_sequences=1, no_repeat_ngram_size=2)\n",
        "\n",
        "    generated_text = tokenizer.decode(outputs[0], skip_special_tokens=True)\n",
        "\n",
        "    return generated_text\n"
      ],
      "metadata": {
        "id": "sehFkWhuFXBF"
      },
      "execution_count": 39,
      "outputs": []
    },
    {
      "cell_type": "markdown",
      "source": [
        "### Generate response from user input\n",
        "\n",
        "Input what ingredients you have and closest recipe will be returned with RAG, and delivered using fine-tuned GPT2."
      ],
      "metadata": {
        "id": "7_9HulhXM4mB"
      }
    },
    {
      "cell_type": "code",
      "source": [
        "# try it out\n",
        "ingredients = \"rice, pineapple, chicken thighs\"\n",
        "\n",
        "recipe = generate_recipe(ingredients)\n",
        "\n",
        "print(\"\\n*******\")\n",
        "print(recipe)"
      ],
      "metadata": {
        "colab": {
          "base_uri": "https://localhost:8080/"
        },
        "id": "uGjmuPr0I-ZA",
        "outputId": "ad8a5427-b3c7-41fa-a6d4-1ba85adefa50"
      },
      "execution_count": 40,
      "outputs": [
        {
          "output_type": "stream",
          "name": "stderr",
          "text": [
            "The attention mask and the pad token id were not set. As a consequence, you may observe unexpected behavior. Please pass your input's `attention_mask` to obtain reliable results.\n",
            "Setting `pad_token_id` to `eos_token_id`:None for open-end generation.\n"
          ]
        },
        {
          "output_type": "stream",
          "name": "stdout",
          "text": [
            "\n",
            "*******\n",
            "You can make Peach Cobbler with rice, pineapple, chicken thighs as key ingredients \n",
            "\n",
            " Ingredients: 1 c. sugar, 1 c. milk, 1 c. self-rising flour, 1 large can peaches, 1 stick butter \n",
            "\n",
            " Instructions: Mix all ingredients together in a bowl and pour into a greased 9 x 13-inch pan. Bake at 350\\u00b0 for 30 minutes or until a toothpick inserted comes out clean. Cool completely.\n"
          ]
        }
      ]
    }
  ]
}