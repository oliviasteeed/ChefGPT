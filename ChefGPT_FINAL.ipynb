{
  "nbformat": 4,
  "nbformat_minor": 0,
  "metadata": {
    "colab": {
      "provenance": [],
      "authorship_tag": "ABX9TyPVDtrZkX9cUWXVYAGk2wFO",
      "include_colab_link": true
    },
    "kernelspec": {
      "name": "python3",
      "display_name": "Python 3"
    },
    "language_info": {
      "name": "python"
    }
  },
  "cells": [
    {
      "cell_type": "markdown",
      "metadata": {
        "id": "view-in-github",
        "colab_type": "text"
      },
      "source": [
        "<a href=\"https://colab.research.google.com/github/oliviasteeed/ChefGPT/blob/main/ChefGPT_FINAL.ipynb\" target=\"_parent\"><img src=\"https://colab.research.google.com/assets/colab-badge.svg\" alt=\"Open In Colab\"/></a>"
      ]
    },
    {
      "cell_type": "markdown",
      "source": [
        "## Chef GPT: IAT 360 Final Project\n",
        "Olivia Steed & Welle Dias Ouambo\n",
        "\n",
        "This project returns a recipe suggestion based on input available ingredients. It uses RAG retrieval to match the input to the closest recipe, and then a fine-tuned version of GPT2 to return the result in a recipe format."
      ],
      "metadata": {
        "id": "IWB320CgD_Jv"
      }
    },
    {
      "cell_type": "markdown",
      "source": [
        "### Import Dependencies"
      ],
      "metadata": {
        "id": "-CzUiQFlGiWM"
      }
    },
    {
      "cell_type": "code",
      "source": [
        "import torch\n",
        "from transformers import GPT2Tokenizer, GPT2LMHeadModel, Trainer, TrainingArguments\n",
        "from datasets import load_dataset, Dataset\n",
        "import pandas as pd\n",
        "import csv\n",
        "import glob\n",
        "from transformers import pipeline\n",
        "from sentence_transformers import SentenceTransformer\n",
        "import numpy as np\n",
        "import ast"
      ],
      "metadata": {
        "id": "omgNigmMGkm9"
      },
      "execution_count": null,
      "outputs": []
    },
    {
      "cell_type": "markdown",
      "source": [
        "### Load data"
      ],
      "metadata": {
        "id": "VaTvlangEbxp"
      }
    },
    {
      "cell_type": "code",
      "execution_count": null,
      "metadata": {
        "id": "UBaXCszCDf7s"
      },
      "outputs": [],
      "source": [
        "# NOTE: This was intended to eliminate cell below, but embeddings from file do not work properly so you have to run cell below to run code\n",
        "\n",
        "\n",
        "# open combined recipes dataframe csv - this is data for RAG to draw from (run if starting from a new runtime)\n",
        "\n",
        "# df = pd.read_csv('combined_recipes_dataframe.csv')\n",
        "\n",
        "# embedding_model = SentenceTransformer('all-MiniLM-L6-v2')  # use lightweight model for embedding\n",
        "# embeddings = embedding_model.encode(df['Embedding'])  # load embeddings based on key ingredients"
      ]
    },
    {
      "cell_type": "code",
      "source": [
        "# open recipes dataset CSV and create embeddings for RAG retrieval\n",
        "\n",
        "# download from https://github.com/oliviasteeed/ChefGPT/blob/main/combined_recipes.csv\n",
        "recipes_csv = ('/Users/oliviasteed/Desktop/combined_recipes.csv') # change to your runtime path\n",
        "\n",
        "recipe_corpus = []\n",
        "\n",
        "with open(recipes_csv, 'r') as f:\n",
        "    reader = csv.reader(f)\n",
        "    next(reader)\n",
        "    for row in reader:\n",
        "        recipe_corpus.append(row)\n",
        "\n",
        "# getting info from each column\n",
        "title = [recipe_corpus[i][1] for i in range(len(recipe_corpus))]\n",
        "all_ing = [recipe_corpus[i][2] for i in range(len(recipe_corpus))]\n",
        "instr = [recipe_corpus[i][3] for i in range(len(recipe_corpus))]\n",
        "key_ing = [recipe_corpus[i][-1] for i in range(len(recipe_corpus))]\n",
        "\n",
        "cleaned_ingr = []\n",
        "cleaned_instr = []\n",
        "cleaned_key_ingr = []\n",
        "\n",
        "# data cleaning to remove \"\" [] and make into one list\n",
        "for i in range (len(recipe_corpus)):\n",
        "\n",
        "  curr_recipe_list = ast.literal_eval(recipe_corpus[i][2])\n",
        "  result = ', '.join(curr_recipe_list)\n",
        "  cleaned_ingr.append(result)\n",
        "\n",
        "  curr_instr_list = ast.literal_eval(recipe_corpus[i][3])\n",
        "  result = ' '.join(curr_instr_list)\n",
        "  cleaned_instr.append(result)\n",
        "\n",
        "  curr_key_ingr_list = ast.literal_eval(recipe_corpus[i][-1])\n",
        "  result = ', '.join(curr_key_ingr_list)\n",
        "  cleaned_key_ingr.append(result)\n",
        "\n",
        "embedding_model = SentenceTransformer('all-MiniLM-L6-v2')  # lightweight model for embedding\n",
        "embeddings = embedding_model.encode(cleaned_key_ingr)  # generate embeddings based on key ingredients\n",
        "\n",
        "# combine recipe dataset and ingredient keyword embeddings in a DataFrame\n",
        "df = pd.DataFrame({\n",
        "    \"Title\": title,\n",
        "    \"Ingredients\": cleaned_ingr,\n",
        "    \"Instructions\": cleaned_instr,\n",
        "    \"Embedding\": list(embeddings)  # Store embeddings as lists for easier handling\n",
        "})"
      ],
      "metadata": {
        "colab": {
          "base_uri": "https://localhost:8080/"
        },
        "id": "u4KPOtM7WUIZ",
        "outputId": "4909ff28-cf0d-4df9-8274-aa211eaeb150"
      },
      "execution_count": null,
      "outputs": [
        {
          "output_type": "stream",
          "name": "stdout",
          "text": [
            "Indexed Documents:\n",
            "                      Title  \\\n",
            "0     Jewell Ball'S Chicken   \n",
            "1               Creamy Corn   \n",
            "2             Chicken Funny   \n",
            "3      Reeses Cups(Candy)     \n",
            "4  Cheeseburger Potato Soup   \n",
            "\n",
            "                                         Ingredients  \\\n",
            "0  1 small jar chipped beef, cut up, 4 boned chic...   \n",
            "1  2 (16 oz.) pkg. frozen corn, 1 (8 oz.) pkg. cr...   \n",
            "2  1 large whole chicken, 2 (10 1/2 oz.) cans chi...   \n",
            "3  1 c. peanut butter, 3/4 c. graham cracker crum...   \n",
            "4  6 baking potatoes, 1 lb. of extra lean ground ...   \n",
            "\n",
            "                                        Instructions  \\\n",
            "0  Place chipped beef on bottom of baking dish. P...   \n",
            "1  In a slow cooker, combine all ingredients. Cov...   \n",
            "2  Boil and debone chicken. Put bite size pieces ...   \n",
            "3  Combine first four ingredients and press in 13...   \n",
            "4  Wash potatoes; prick several times with a fork...   \n",
            "\n",
            "                                           Embedding  \n",
            "0  [-0.0052063875, 0.005931496, 0.057787675, 0.05...  \n",
            "1  [-0.05017694, -0.024463343, 0.038555004, 0.039...  \n",
            "2  [-0.04555725, 0.011677907, 0.025108758, 0.0171...  \n",
            "3  [-0.07629992, -0.06006803, 0.07658986, 0.04522...  \n",
            "4  [-0.015689377, -0.033844896, 0.02279221, -0.00...  \n"
          ]
        }
      ]
    },
    {
      "cell_type": "code",
      "source": [
        "# preview dataframe\n",
        "\n",
        "df"
      ],
      "metadata": {
        "colab": {
          "base_uri": "https://localhost:8080/",
          "height": 597
        },
        "id": "LknzWyquX_Gj",
        "outputId": "55eab4b7-4c5f-4872-dc92-6d83d4503c61"
      },
      "execution_count": null,
      "outputs": [
        {
          "output_type": "execute_result",
          "data": {
            "text/plain": [
              "                                                  Title  \\\n",
              "0                                 Jewell Ball'S Chicken   \n",
              "1                                           Creamy Corn   \n",
              "2                                         Chicken Funny   \n",
              "3                                  Reeses Cups(Candy)     \n",
              "4                              Cheeseburger Potato Soup   \n",
              "...                                                 ...   \n",
              "1083                    \"Sesame-Scallion Chicken Salad\"   \n",
              "1084                   \"Maple Barbecue Grilled Chicken\"   \n",
              "1085                \"Spiced Lamb and Dill Yogurt Pasta\"   \n",
              "1086                             \"Salt-and-Pepper Fish\"   \n",
              "1087  \"Salmon Burgers With Ginger and Quick-Pickled ...   \n",
              "\n",
              "                                            Ingredients  \\\n",
              "0     1 small jar chipped beef, cut up, 4 boned chic...   \n",
              "1     2 (16 oz.) pkg. frozen corn, 1 (8 oz.) pkg. cr...   \n",
              "2     1 large whole chicken, 2 (10 1/2 oz.) cans chi...   \n",
              "3     1 c. peanut butter, 3/4 c. graham cracker crum...   \n",
              "4     6 baking potatoes, 1 lb. of extra lean ground ...   \n",
              "...                                                 ...   \n",
              "1083  2 skinless, boneless chicken breasts (1–11/2 l...   \n",
              "1084  2 tbsp. extra-virgin olive oil, 3 garlic clove...   \n",
              "1085  3 large egg yolks, 2 cups kefir (cultured milk...   \n",
              "1086  1 cup short-grain sushi rice, 8 scallions, 1 (...   \n",
              "1087  11/2 lb. boneless, skinless center-cut salmon,...   \n",
              "\n",
              "                                           Instructions  \\\n",
              "0     Place chipped beef on bottom of baking dish. P...   \n",
              "1     In a slow cooker, combine all ingredients. Cov...   \n",
              "2     Boil and debone chicken. Put bite size pieces ...   \n",
              "3     Combine first four ingredients and press in 13...   \n",
              "4     Wash potatoes; prick several times with a fork...   \n",
              "...                                                 ...   \n",
              "1083  Bring chicken, 3 Tbsp. kosher salt, and 5 cups...   \n",
              "1084  Heat olive oil in a small saucepan over medium...   \n",
              "1085  Combine egg yolks, kefir, and 11/2 cups dill i...   \n",
              "1086  Rinse rice in several changes of cold water in...   \n",
              "1087  Process one third of salmon (about 8 oz.) in a...   \n",
              "\n",
              "                                              Embedding  \n",
              "0     [-0.0052063875, 0.005931496, 0.057787675, 0.05...  \n",
              "1     [-0.05017694, -0.024463343, 0.038555004, 0.039...  \n",
              "2     [-0.04555725, 0.011677907, 0.025108758, 0.0171...  \n",
              "3     [-0.07629992, -0.06006803, 0.07658986, 0.04522...  \n",
              "4     [-0.015689377, -0.033844896, 0.02279221, -0.00...  \n",
              "...                                                 ...  \n",
              "1083  [-0.024737706, 0.0026643737, 0.05768343, 0.034...  \n",
              "1084  [-0.07130347, -0.017758539, 0.031053178, 0.001...  \n",
              "1085  [-0.059787862, -0.0047301687, 0.07131379, 0.04...  \n",
              "1086  [-0.05912297, 0.01989312, 0.058753405, 0.04396...  \n",
              "1087  [-0.030897675, 0.0015508849, 0.05577971, 0.048...  \n",
              "\n",
              "[1088 rows x 4 columns]"
            ],
            "text/html": [
              "<div>\n",
              "<style scoped>\n",
              "    .dataframe tbody tr th:only-of-type {\n",
              "        vertical-align: middle;\n",
              "    }\n",
              "\n",
              "    .dataframe tbody tr th {\n",
              "        vertical-align: top;\n",
              "    }\n",
              "\n",
              "    .dataframe thead th {\n",
              "        text-align: right;\n",
              "    }\n",
              "</style>\n",
              "<table border=\"1\" class=\"dataframe\">\n",
              "  <thead>\n",
              "    <tr style=\"text-align: right;\">\n",
              "      <th></th>\n",
              "      <th>Title</th>\n",
              "      <th>Ingredients</th>\n",
              "      <th>Instructions</th>\n",
              "      <th>Embedding</th>\n",
              "    </tr>\n",
              "  </thead>\n",
              "  <tbody>\n",
              "    <tr>\n",
              "      <th>0</th>\n",
              "      <td>Jewell Ball'S Chicken</td>\n",
              "      <td>1 small jar chipped beef, cut up, 4 boned chic...</td>\n",
              "      <td>Place chipped beef on bottom of baking dish. P...</td>\n",
              "      <td>[-0.0052063875, 0.005931496, 0.057787675, 0.05...</td>\n",
              "    </tr>\n",
              "    <tr>\n",
              "      <th>1</th>\n",
              "      <td>Creamy Corn</td>\n",
              "      <td>2 (16 oz.) pkg. frozen corn, 1 (8 oz.) pkg. cr...</td>\n",
              "      <td>In a slow cooker, combine all ingredients. Cov...</td>\n",
              "      <td>[-0.05017694, -0.024463343, 0.038555004, 0.039...</td>\n",
              "    </tr>\n",
              "    <tr>\n",
              "      <th>2</th>\n",
              "      <td>Chicken Funny</td>\n",
              "      <td>1 large whole chicken, 2 (10 1/2 oz.) cans chi...</td>\n",
              "      <td>Boil and debone chicken. Put bite size pieces ...</td>\n",
              "      <td>[-0.04555725, 0.011677907, 0.025108758, 0.0171...</td>\n",
              "    </tr>\n",
              "    <tr>\n",
              "      <th>3</th>\n",
              "      <td>Reeses Cups(Candy)</td>\n",
              "      <td>1 c. peanut butter, 3/4 c. graham cracker crum...</td>\n",
              "      <td>Combine first four ingredients and press in 13...</td>\n",
              "      <td>[-0.07629992, -0.06006803, 0.07658986, 0.04522...</td>\n",
              "    </tr>\n",
              "    <tr>\n",
              "      <th>4</th>\n",
              "      <td>Cheeseburger Potato Soup</td>\n",
              "      <td>6 baking potatoes, 1 lb. of extra lean ground ...</td>\n",
              "      <td>Wash potatoes; prick several times with a fork...</td>\n",
              "      <td>[-0.015689377, -0.033844896, 0.02279221, -0.00...</td>\n",
              "    </tr>\n",
              "    <tr>\n",
              "      <th>...</th>\n",
              "      <td>...</td>\n",
              "      <td>...</td>\n",
              "      <td>...</td>\n",
              "      <td>...</td>\n",
              "    </tr>\n",
              "    <tr>\n",
              "      <th>1083</th>\n",
              "      <td>\"Sesame-Scallion Chicken Salad\"</td>\n",
              "      <td>2 skinless, boneless chicken breasts (1–11/2 l...</td>\n",
              "      <td>Bring chicken, 3 Tbsp. kosher salt, and 5 cups...</td>\n",
              "      <td>[-0.024737706, 0.0026643737, 0.05768343, 0.034...</td>\n",
              "    </tr>\n",
              "    <tr>\n",
              "      <th>1084</th>\n",
              "      <td>\"Maple Barbecue Grilled Chicken\"</td>\n",
              "      <td>2 tbsp. extra-virgin olive oil, 3 garlic clove...</td>\n",
              "      <td>Heat olive oil in a small saucepan over medium...</td>\n",
              "      <td>[-0.07130347, -0.017758539, 0.031053178, 0.001...</td>\n",
              "    </tr>\n",
              "    <tr>\n",
              "      <th>1085</th>\n",
              "      <td>\"Spiced Lamb and Dill Yogurt Pasta\"</td>\n",
              "      <td>3 large egg yolks, 2 cups kefir (cultured milk...</td>\n",
              "      <td>Combine egg yolks, kefir, and 11/2 cups dill i...</td>\n",
              "      <td>[-0.059787862, -0.0047301687, 0.07131379, 0.04...</td>\n",
              "    </tr>\n",
              "    <tr>\n",
              "      <th>1086</th>\n",
              "      <td>\"Salt-and-Pepper Fish\"</td>\n",
              "      <td>1 cup short-grain sushi rice, 8 scallions, 1 (...</td>\n",
              "      <td>Rinse rice in several changes of cold water in...</td>\n",
              "      <td>[-0.05912297, 0.01989312, 0.058753405, 0.04396...</td>\n",
              "    </tr>\n",
              "    <tr>\n",
              "      <th>1087</th>\n",
              "      <td>\"Salmon Burgers With Ginger and Quick-Pickled ...</td>\n",
              "      <td>11/2 lb. boneless, skinless center-cut salmon,...</td>\n",
              "      <td>Process one third of salmon (about 8 oz.) in a...</td>\n",
              "      <td>[-0.030897675, 0.0015508849, 0.05577971, 0.048...</td>\n",
              "    </tr>\n",
              "  </tbody>\n",
              "</table>\n",
              "<p>1088 rows × 4 columns</p>\n",
              "</div>"
            ]
          },
          "metadata": {},
          "execution_count": 62
        }
      ]
    },
    {
      "cell_type": "code",
      "source": [
        "# load the fine-tuned GPT2 model\n",
        "\n",
        "# download from https://1sfu-my.sharepoint.com/:u:/g/personal/osa12_sfu_ca/EXwsLHVUhHpFkHGNj5a9pjMBKL-2JEr7vFp0I9OUqGLc6w?e=PVWqzh\n",
        "\n",
        "model = GPT2LMHeadModel.from_pretrained(\"/Users/oliviasteed/Desktop/test 2/gpt2_recipe_model\")  # change to your runtime path\n",
        "tokenizer = GPT2Tokenizer.from_pretrained(\"/Users/oliviasteed/Desktop/test 2/gpt2_recipe_tokenizer\")  # change to your runtime path"
      ],
      "metadata": {
        "id": "ocgpjaiHFL_M"
      },
      "execution_count": null,
      "outputs": []
    },
    {
      "cell_type": "markdown",
      "source": [
        "### RAG retrieval and generate result"
      ],
      "metadata": {
        "id": "G-VslXXUHQZr"
      }
    },
    {
      "cell_type": "code",
      "source": [
        "# RAG retrieval functions to get closest recipe and return it using llm\n",
        "\n",
        "def retrieve_with_pandas(query, top_k=1):\n",
        "\n",
        "    # generate embedding from query\n",
        "    query_embedding = embedding_model.encode([query])[0]\n",
        "\n",
        "   # compute similarity scores (cosine similarity)\n",
        "    df['Similarity'] = df['Embedding'].apply(lambda x: np.dot(query_embedding, x) /\n",
        "                                             (np.linalg.norm(query_embedding) * np.linalg.norm(x)))\n",
        "\n",
        "    # we were using this to compute similarity scores from saved embeddings but they were not as accurate as code above\n",
        "    # similarities = np.dot(embeddings, query_embedding) / (np.linalg.norm(embeddings, axis=1) * np.linalg.norm(query_embedding))\n",
        "    # df['Similarity'] = similarities\n",
        "\n",
        "    # sort by similarity and return top-k results\n",
        "    results = df.sort_values(by=\"Similarity\", ascending=False).head(top_k)\n",
        "    return results[[\"Title\", \"Ingredients\", \"Similarity\"]]\n"
      ],
      "metadata": {
        "id": "2lAm1CtqEn1J"
      },
      "execution_count": null,
      "outputs": []
    },
    {
      "cell_type": "code",
      "source": [
        "# function to generate recipe based on input ingredients\n",
        "\n",
        "def generate_recipe(query):\n",
        "\n",
        "    # prompt = f\"Here's what you can make with: {ingredients} as key ingredients \\n \\nIngredients: {ingredients}\\nInstructions:\"\n",
        "\n",
        "    context = retrieve_with_pandas(query)[[\"Title\", \"Ingredients\"]]\n",
        "\n",
        "    prompt = f\"You can make {context['Title'].iloc[0]} with {query} as key ingredients \\n\\nIngredients: {context['Ingredients'].iloc[0]}. \\n\\nInstructions:\"\n",
        "\n",
        "\n",
        "    inputs = tokenizer(prompt, return_tensors=\"pt\")\n",
        "\n",
        "    outputs = model.generate(inputs[\"input_ids\"], max_length=800, num_return_sequences=1, no_repeat_ngram_size=5)\n",
        "\n",
        "    generated_text = tokenizer.decode(outputs[0], skip_special_tokens=True)\n",
        "\n",
        "    return generated_text\n"
      ],
      "metadata": {
        "id": "sehFkWhuFXBF"
      },
      "execution_count": null,
      "outputs": []
    },
    {
      "cell_type": "markdown",
      "source": [
        "### Generate response from user input\n",
        "\n",
        "Input what ingredients you have and closest recipe will be returned with RAG, and delivered using fine-tuned GPT2."
      ],
      "metadata": {
        "id": "7_9HulhXM4mB"
      }
    },
    {
      "cell_type": "code",
      "source": [
        "# try it out (1-2 common ingredients works best but feel free to have fun)\n",
        "\n",
        "ingredients = \"apple, sugar\"\n",
        "\n",
        "recipe = generate_recipe(ingredients)\n",
        "\n",
        "print(\"\\n*******\")\n",
        "print(recipe)"
      ],
      "metadata": {
        "colab": {
          "base_uri": "https://localhost:8080/"
        },
        "id": "uGjmuPr0I-ZA",
        "outputId": "4a2178fb-2651-4139-afd4-44d91545dc49"
      },
      "execution_count": 126,
      "outputs": [
        {
          "output_type": "stream",
          "name": "stderr",
          "text": [
            "The attention mask and the pad token id were not set. As a consequence, you may observe unexpected behavior. Please pass your input's `attention_mask` to obtain reliable results.\n",
            "Setting `pad_token_id` to `eos_token_id`:None for open-end generation.\n"
          ]
        },
        {
          "output_type": "stream",
          "name": "stdout",
          "text": [
            "\n",
            "*******\n",
            "You can make Apple Pie with apple, sugar as key ingredients \n",
            "\n",
            "Ingredients: 6 to 7 apples, sliced, 1 c. sugar, 2 Tbsp. flour, 1 tsp. cinnamon, dash of salt and nutmeg. \n",
            "\n",
            "Instructions:      Cook apples in a large skillet over medium heat until tender, about 10 minutes.    Remove apples from skillet and set aside.     In a large bowl, combine flour, cinnamon, salt and nutmeg; set aside.  (Do not stir.)     Add apples to skillet and cook until apples are soft and apples are slightly browned, about 10 minutes or until apples are slightly brown.    Serve apples with whipped cream or whipped cream topping.    Recipe Notes:    Apple Pie Recipe:    Recipe:  \n"
          ]
        }
      ]
    }
  ]
}