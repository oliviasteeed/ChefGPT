{
  "nbformat": 4,
  "nbformat_minor": 0,
  "metadata": {
    "colab": {
      "provenance": [],
      "authorship_tag": "ABX9TyOYiouv/2b3NfCcOKUsdhoR",
      "include_colab_link": true
    },
    "kernelspec": {
      "name": "python3",
      "display_name": "Python 3"
    },
    "language_info": {
      "name": "python"
    },
    "widgets": {
      "application/vnd.jupyter.widget-state+json": {
        "f3f408559cc74fd999bca19983bc5391": {
          "model_module": "@jupyter-widgets/controls",
          "model_name": "HBoxModel",
          "model_module_version": "2.0.0",
          "state": {
            "_dom_classes": [],
            "_model_module": "@jupyter-widgets/controls",
            "_model_module_version": "2.0.0",
            "_model_name": "HBoxModel",
            "_view_count": null,
            "_view_module": "@jupyter-widgets/controls",
            "_view_module_version": "2.0.0",
            "_view_name": "HBoxView",
            "box_style": "",
            "children": [
              "IPY_MODEL_7582a216023b4d0697bb00b259242f2f",
              "IPY_MODEL_1929ede4108145399f89453e935f9fdf",
              "IPY_MODEL_b3eda1b448c642f48229ed169f9fff33"
            ],
            "layout": "IPY_MODEL_8a3b9ceb64334e939c5ec0eb3cc11a7f",
            "tabbable": null,
            "tooltip": null
          }
        },
        "7582a216023b4d0697bb00b259242f2f": {
          "model_module": "@jupyter-widgets/controls",
          "model_name": "HTMLModel",
          "model_module_version": "2.0.0",
          "state": {
            "_dom_classes": [],
            "_model_module": "@jupyter-widgets/controls",
            "_model_module_version": "2.0.0",
            "_model_name": "HTMLModel",
            "_view_count": null,
            "_view_module": "@jupyter-widgets/controls",
            "_view_module_version": "2.0.0",
            "_view_name": "HTMLView",
            "description": "",
            "description_allow_html": false,
            "layout": "IPY_MODEL_249573ccdf5c4364992238d90eeb8c85",
            "placeholder": "​",
            "style": "IPY_MODEL_6649e19e5a574ff3a5f535061fbb7ec1",
            "tabbable": null,
            "tooltip": null,
            "value": "Map: 100%"
          }
        },
        "1929ede4108145399f89453e935f9fdf": {
          "model_module": "@jupyter-widgets/controls",
          "model_name": "FloatProgressModel",
          "model_module_version": "2.0.0",
          "state": {
            "_dom_classes": [],
            "_model_module": "@jupyter-widgets/controls",
            "_model_module_version": "2.0.0",
            "_model_name": "FloatProgressModel",
            "_view_count": null,
            "_view_module": "@jupyter-widgets/controls",
            "_view_module_version": "2.0.0",
            "_view_name": "ProgressView",
            "bar_style": "success",
            "description": "",
            "description_allow_html": false,
            "layout": "IPY_MODEL_69d27252bff14b20bc18defe47f0ce41",
            "max": 800,
            "min": 0,
            "orientation": "horizontal",
            "style": "IPY_MODEL_5e79fb208dfc45d188a3494953b0b04e",
            "tabbable": null,
            "tooltip": null,
            "value": 800
          }
        },
        "b3eda1b448c642f48229ed169f9fff33": {
          "model_module": "@jupyter-widgets/controls",
          "model_name": "HTMLModel",
          "model_module_version": "2.0.0",
          "state": {
            "_dom_classes": [],
            "_model_module": "@jupyter-widgets/controls",
            "_model_module_version": "2.0.0",
            "_model_name": "HTMLModel",
            "_view_count": null,
            "_view_module": "@jupyter-widgets/controls",
            "_view_module_version": "2.0.0",
            "_view_name": "HTMLView",
            "description": "",
            "description_allow_html": false,
            "layout": "IPY_MODEL_b1e36d56d44e446c9ac1d023e5a637f4",
            "placeholder": "​",
            "style": "IPY_MODEL_a1473573f00744279b020ab0efb5917e",
            "tabbable": null,
            "tooltip": null,
            "value": " 800/800 [00:02&lt;00:00, 311.26 examples/s]"
          }
        },
        "8a3b9ceb64334e939c5ec0eb3cc11a7f": {
          "model_module": "@jupyter-widgets/base",
          "model_name": "LayoutModel",
          "model_module_version": "2.0.0",
          "state": {
            "_model_module": "@jupyter-widgets/base",
            "_model_module_version": "2.0.0",
            "_model_name": "LayoutModel",
            "_view_count": null,
            "_view_module": "@jupyter-widgets/base",
            "_view_module_version": "2.0.0",
            "_view_name": "LayoutView",
            "align_content": null,
            "align_items": null,
            "align_self": null,
            "border_bottom": null,
            "border_left": null,
            "border_right": null,
            "border_top": null,
            "bottom": null,
            "display": null,
            "flex": null,
            "flex_flow": null,
            "grid_area": null,
            "grid_auto_columns": null,
            "grid_auto_flow": null,
            "grid_auto_rows": null,
            "grid_column": null,
            "grid_gap": null,
            "grid_row": null,
            "grid_template_areas": null,
            "grid_template_columns": null,
            "grid_template_rows": null,
            "height": null,
            "justify_content": null,
            "justify_items": null,
            "left": null,
            "margin": null,
            "max_height": null,
            "max_width": null,
            "min_height": null,
            "min_width": null,
            "object_fit": null,
            "object_position": null,
            "order": null,
            "overflow": null,
            "padding": null,
            "right": null,
            "top": null,
            "visibility": null,
            "width": null
          }
        },
        "249573ccdf5c4364992238d90eeb8c85": {
          "model_module": "@jupyter-widgets/base",
          "model_name": "LayoutModel",
          "model_module_version": "2.0.0",
          "state": {
            "_model_module": "@jupyter-widgets/base",
            "_model_module_version": "2.0.0",
            "_model_name": "LayoutModel",
            "_view_count": null,
            "_view_module": "@jupyter-widgets/base",
            "_view_module_version": "2.0.0",
            "_view_name": "LayoutView",
            "align_content": null,
            "align_items": null,
            "align_self": null,
            "border_bottom": null,
            "border_left": null,
            "border_right": null,
            "border_top": null,
            "bottom": null,
            "display": null,
            "flex": null,
            "flex_flow": null,
            "grid_area": null,
            "grid_auto_columns": null,
            "grid_auto_flow": null,
            "grid_auto_rows": null,
            "grid_column": null,
            "grid_gap": null,
            "grid_row": null,
            "grid_template_areas": null,
            "grid_template_columns": null,
            "grid_template_rows": null,
            "height": null,
            "justify_content": null,
            "justify_items": null,
            "left": null,
            "margin": null,
            "max_height": null,
            "max_width": null,
            "min_height": null,
            "min_width": null,
            "object_fit": null,
            "object_position": null,
            "order": null,
            "overflow": null,
            "padding": null,
            "right": null,
            "top": null,
            "visibility": null,
            "width": null
          }
        },
        "6649e19e5a574ff3a5f535061fbb7ec1": {
          "model_module": "@jupyter-widgets/controls",
          "model_name": "HTMLStyleModel",
          "model_module_version": "2.0.0",
          "state": {
            "_model_module": "@jupyter-widgets/controls",
            "_model_module_version": "2.0.0",
            "_model_name": "HTMLStyleModel",
            "_view_count": null,
            "_view_module": "@jupyter-widgets/base",
            "_view_module_version": "2.0.0",
            "_view_name": "StyleView",
            "background": null,
            "description_width": "",
            "font_size": null,
            "text_color": null
          }
        },
        "69d27252bff14b20bc18defe47f0ce41": {
          "model_module": "@jupyter-widgets/base",
          "model_name": "LayoutModel",
          "model_module_version": "2.0.0",
          "state": {
            "_model_module": "@jupyter-widgets/base",
            "_model_module_version": "2.0.0",
            "_model_name": "LayoutModel",
            "_view_count": null,
            "_view_module": "@jupyter-widgets/base",
            "_view_module_version": "2.0.0",
            "_view_name": "LayoutView",
            "align_content": null,
            "align_items": null,
            "align_self": null,
            "border_bottom": null,
            "border_left": null,
            "border_right": null,
            "border_top": null,
            "bottom": null,
            "display": null,
            "flex": null,
            "flex_flow": null,
            "grid_area": null,
            "grid_auto_columns": null,
            "grid_auto_flow": null,
            "grid_auto_rows": null,
            "grid_column": null,
            "grid_gap": null,
            "grid_row": null,
            "grid_template_areas": null,
            "grid_template_columns": null,
            "grid_template_rows": null,
            "height": null,
            "justify_content": null,
            "justify_items": null,
            "left": null,
            "margin": null,
            "max_height": null,
            "max_width": null,
            "min_height": null,
            "min_width": null,
            "object_fit": null,
            "object_position": null,
            "order": null,
            "overflow": null,
            "padding": null,
            "right": null,
            "top": null,
            "visibility": null,
            "width": null
          }
        },
        "5e79fb208dfc45d188a3494953b0b04e": {
          "model_module": "@jupyter-widgets/controls",
          "model_name": "ProgressStyleModel",
          "model_module_version": "2.0.0",
          "state": {
            "_model_module": "@jupyter-widgets/controls",
            "_model_module_version": "2.0.0",
            "_model_name": "ProgressStyleModel",
            "_view_count": null,
            "_view_module": "@jupyter-widgets/base",
            "_view_module_version": "2.0.0",
            "_view_name": "StyleView",
            "bar_color": null,
            "description_width": ""
          }
        },
        "b1e36d56d44e446c9ac1d023e5a637f4": {
          "model_module": "@jupyter-widgets/base",
          "model_name": "LayoutModel",
          "model_module_version": "2.0.0",
          "state": {
            "_model_module": "@jupyter-widgets/base",
            "_model_module_version": "2.0.0",
            "_model_name": "LayoutModel",
            "_view_count": null,
            "_view_module": "@jupyter-widgets/base",
            "_view_module_version": "2.0.0",
            "_view_name": "LayoutView",
            "align_content": null,
            "align_items": null,
            "align_self": null,
            "border_bottom": null,
            "border_left": null,
            "border_right": null,
            "border_top": null,
            "bottom": null,
            "display": null,
            "flex": null,
            "flex_flow": null,
            "grid_area": null,
            "grid_auto_columns": null,
            "grid_auto_flow": null,
            "grid_auto_rows": null,
            "grid_column": null,
            "grid_gap": null,
            "grid_row": null,
            "grid_template_areas": null,
            "grid_template_columns": null,
            "grid_template_rows": null,
            "height": null,
            "justify_content": null,
            "justify_items": null,
            "left": null,
            "margin": null,
            "max_height": null,
            "max_width": null,
            "min_height": null,
            "min_width": null,
            "object_fit": null,
            "object_position": null,
            "order": null,
            "overflow": null,
            "padding": null,
            "right": null,
            "top": null,
            "visibility": null,
            "width": null
          }
        },
        "a1473573f00744279b020ab0efb5917e": {
          "model_module": "@jupyter-widgets/controls",
          "model_name": "HTMLStyleModel",
          "model_module_version": "2.0.0",
          "state": {
            "_model_module": "@jupyter-widgets/controls",
            "_model_module_version": "2.0.0",
            "_model_name": "HTMLStyleModel",
            "_view_count": null,
            "_view_module": "@jupyter-widgets/base",
            "_view_module_version": "2.0.0",
            "_view_name": "StyleView",
            "background": null,
            "description_width": "",
            "font_size": null,
            "text_color": null
          }
        },
        "e0a2f99fa94f48f583c54f137989ccfa": {
          "model_module": "@jupyter-widgets/controls",
          "model_name": "HBoxModel",
          "model_module_version": "2.0.0",
          "state": {
            "_dom_classes": [],
            "_model_module": "@jupyter-widgets/controls",
            "_model_module_version": "2.0.0",
            "_model_name": "HBoxModel",
            "_view_count": null,
            "_view_module": "@jupyter-widgets/controls",
            "_view_module_version": "2.0.0",
            "_view_name": "HBoxView",
            "box_style": "",
            "children": [
              "IPY_MODEL_3e0f04eb6913496485b2b7dea677ae39",
              "IPY_MODEL_51c6339f32cd464ca23d5b555ecc7f0d",
              "IPY_MODEL_9e8ad2b611354f0098a42a8034eb7c82"
            ],
            "layout": "IPY_MODEL_45e2c3c4eccf4cf8a314342be8b514c2",
            "tabbable": null,
            "tooltip": null
          }
        },
        "3e0f04eb6913496485b2b7dea677ae39": {
          "model_module": "@jupyter-widgets/controls",
          "model_name": "HTMLModel",
          "model_module_version": "2.0.0",
          "state": {
            "_dom_classes": [],
            "_model_module": "@jupyter-widgets/controls",
            "_model_module_version": "2.0.0",
            "_model_name": "HTMLModel",
            "_view_count": null,
            "_view_module": "@jupyter-widgets/controls",
            "_view_module_version": "2.0.0",
            "_view_name": "HTMLView",
            "description": "",
            "description_allow_html": false,
            "layout": "IPY_MODEL_ef01f35b5d444beda6ef2bb3f24734d0",
            "placeholder": "​",
            "style": "IPY_MODEL_41895390b29e4c8b83cc54ff74bcece0",
            "tabbable": null,
            "tooltip": null,
            "value": "Map: 100%"
          }
        },
        "51c6339f32cd464ca23d5b555ecc7f0d": {
          "model_module": "@jupyter-widgets/controls",
          "model_name": "FloatProgressModel",
          "model_module_version": "2.0.0",
          "state": {
            "_dom_classes": [],
            "_model_module": "@jupyter-widgets/controls",
            "_model_module_version": "2.0.0",
            "_model_name": "FloatProgressModel",
            "_view_count": null,
            "_view_module": "@jupyter-widgets/controls",
            "_view_module_version": "2.0.0",
            "_view_name": "ProgressView",
            "bar_style": "success",
            "description": "",
            "description_allow_html": false,
            "layout": "IPY_MODEL_e593a2c2cbf049c48c6b2aaafe6ec255",
            "max": 200,
            "min": 0,
            "orientation": "horizontal",
            "style": "IPY_MODEL_089587c43c234ec7b5c746461a00d353",
            "tabbable": null,
            "tooltip": null,
            "value": 200
          }
        },
        "9e8ad2b611354f0098a42a8034eb7c82": {
          "model_module": "@jupyter-widgets/controls",
          "model_name": "HTMLModel",
          "model_module_version": "2.0.0",
          "state": {
            "_dom_classes": [],
            "_model_module": "@jupyter-widgets/controls",
            "_model_module_version": "2.0.0",
            "_model_name": "HTMLModel",
            "_view_count": null,
            "_view_module": "@jupyter-widgets/controls",
            "_view_module_version": "2.0.0",
            "_view_name": "HTMLView",
            "description": "",
            "description_allow_html": false,
            "layout": "IPY_MODEL_b54d3cd00d8d40be80c036a73aeddc5d",
            "placeholder": "​",
            "style": "IPY_MODEL_555d217bfc0f4012828dd09e732d1264",
            "tabbable": null,
            "tooltip": null,
            "value": " 200/200 [00:00&lt;00:00, 334.16 examples/s]"
          }
        },
        "45e2c3c4eccf4cf8a314342be8b514c2": {
          "model_module": "@jupyter-widgets/base",
          "model_name": "LayoutModel",
          "model_module_version": "2.0.0",
          "state": {
            "_model_module": "@jupyter-widgets/base",
            "_model_module_version": "2.0.0",
            "_model_name": "LayoutModel",
            "_view_count": null,
            "_view_module": "@jupyter-widgets/base",
            "_view_module_version": "2.0.0",
            "_view_name": "LayoutView",
            "align_content": null,
            "align_items": null,
            "align_self": null,
            "border_bottom": null,
            "border_left": null,
            "border_right": null,
            "border_top": null,
            "bottom": null,
            "display": null,
            "flex": null,
            "flex_flow": null,
            "grid_area": null,
            "grid_auto_columns": null,
            "grid_auto_flow": null,
            "grid_auto_rows": null,
            "grid_column": null,
            "grid_gap": null,
            "grid_row": null,
            "grid_template_areas": null,
            "grid_template_columns": null,
            "grid_template_rows": null,
            "height": null,
            "justify_content": null,
            "justify_items": null,
            "left": null,
            "margin": null,
            "max_height": null,
            "max_width": null,
            "min_height": null,
            "min_width": null,
            "object_fit": null,
            "object_position": null,
            "order": null,
            "overflow": null,
            "padding": null,
            "right": null,
            "top": null,
            "visibility": null,
            "width": null
          }
        },
        "ef01f35b5d444beda6ef2bb3f24734d0": {
          "model_module": "@jupyter-widgets/base",
          "model_name": "LayoutModel",
          "model_module_version": "2.0.0",
          "state": {
            "_model_module": "@jupyter-widgets/base",
            "_model_module_version": "2.0.0",
            "_model_name": "LayoutModel",
            "_view_count": null,
            "_view_module": "@jupyter-widgets/base",
            "_view_module_version": "2.0.0",
            "_view_name": "LayoutView",
            "align_content": null,
            "align_items": null,
            "align_self": null,
            "border_bottom": null,
            "border_left": null,
            "border_right": null,
            "border_top": null,
            "bottom": null,
            "display": null,
            "flex": null,
            "flex_flow": null,
            "grid_area": null,
            "grid_auto_columns": null,
            "grid_auto_flow": null,
            "grid_auto_rows": null,
            "grid_column": null,
            "grid_gap": null,
            "grid_row": null,
            "grid_template_areas": null,
            "grid_template_columns": null,
            "grid_template_rows": null,
            "height": null,
            "justify_content": null,
            "justify_items": null,
            "left": null,
            "margin": null,
            "max_height": null,
            "max_width": null,
            "min_height": null,
            "min_width": null,
            "object_fit": null,
            "object_position": null,
            "order": null,
            "overflow": null,
            "padding": null,
            "right": null,
            "top": null,
            "visibility": null,
            "width": null
          }
        },
        "41895390b29e4c8b83cc54ff74bcece0": {
          "model_module": "@jupyter-widgets/controls",
          "model_name": "HTMLStyleModel",
          "model_module_version": "2.0.0",
          "state": {
            "_model_module": "@jupyter-widgets/controls",
            "_model_module_version": "2.0.0",
            "_model_name": "HTMLStyleModel",
            "_view_count": null,
            "_view_module": "@jupyter-widgets/base",
            "_view_module_version": "2.0.0",
            "_view_name": "StyleView",
            "background": null,
            "description_width": "",
            "font_size": null,
            "text_color": null
          }
        },
        "e593a2c2cbf049c48c6b2aaafe6ec255": {
          "model_module": "@jupyter-widgets/base",
          "model_name": "LayoutModel",
          "model_module_version": "2.0.0",
          "state": {
            "_model_module": "@jupyter-widgets/base",
            "_model_module_version": "2.0.0",
            "_model_name": "LayoutModel",
            "_view_count": null,
            "_view_module": "@jupyter-widgets/base",
            "_view_module_version": "2.0.0",
            "_view_name": "LayoutView",
            "align_content": null,
            "align_items": null,
            "align_self": null,
            "border_bottom": null,
            "border_left": null,
            "border_right": null,
            "border_top": null,
            "bottom": null,
            "display": null,
            "flex": null,
            "flex_flow": null,
            "grid_area": null,
            "grid_auto_columns": null,
            "grid_auto_flow": null,
            "grid_auto_rows": null,
            "grid_column": null,
            "grid_gap": null,
            "grid_row": null,
            "grid_template_areas": null,
            "grid_template_columns": null,
            "grid_template_rows": null,
            "height": null,
            "justify_content": null,
            "justify_items": null,
            "left": null,
            "margin": null,
            "max_height": null,
            "max_width": null,
            "min_height": null,
            "min_width": null,
            "object_fit": null,
            "object_position": null,
            "order": null,
            "overflow": null,
            "padding": null,
            "right": null,
            "top": null,
            "visibility": null,
            "width": null
          }
        },
        "089587c43c234ec7b5c746461a00d353": {
          "model_module": "@jupyter-widgets/controls",
          "model_name": "ProgressStyleModel",
          "model_module_version": "2.0.0",
          "state": {
            "_model_module": "@jupyter-widgets/controls",
            "_model_module_version": "2.0.0",
            "_model_name": "ProgressStyleModel",
            "_view_count": null,
            "_view_module": "@jupyter-widgets/base",
            "_view_module_version": "2.0.0",
            "_view_name": "StyleView",
            "bar_color": null,
            "description_width": ""
          }
        },
        "b54d3cd00d8d40be80c036a73aeddc5d": {
          "model_module": "@jupyter-widgets/base",
          "model_name": "LayoutModel",
          "model_module_version": "2.0.0",
          "state": {
            "_model_module": "@jupyter-widgets/base",
            "_model_module_version": "2.0.0",
            "_model_name": "LayoutModel",
            "_view_count": null,
            "_view_module": "@jupyter-widgets/base",
            "_view_module_version": "2.0.0",
            "_view_name": "LayoutView",
            "align_content": null,
            "align_items": null,
            "align_self": null,
            "border_bottom": null,
            "border_left": null,
            "border_right": null,
            "border_top": null,
            "bottom": null,
            "display": null,
            "flex": null,
            "flex_flow": null,
            "grid_area": null,
            "grid_auto_columns": null,
            "grid_auto_flow": null,
            "grid_auto_rows": null,
            "grid_column": null,
            "grid_gap": null,
            "grid_row": null,
            "grid_template_areas": null,
            "grid_template_columns": null,
            "grid_template_rows": null,
            "height": null,
            "justify_content": null,
            "justify_items": null,
            "left": null,
            "margin": null,
            "max_height": null,
            "max_width": null,
            "min_height": null,
            "min_width": null,
            "object_fit": null,
            "object_position": null,
            "order": null,
            "overflow": null,
            "padding": null,
            "right": null,
            "top": null,
            "visibility": null,
            "width": null
          }
        },
        "555d217bfc0f4012828dd09e732d1264": {
          "model_module": "@jupyter-widgets/controls",
          "model_name": "HTMLStyleModel",
          "model_module_version": "2.0.0",
          "state": {
            "_model_module": "@jupyter-widgets/controls",
            "_model_module_version": "2.0.0",
            "_model_name": "HTMLStyleModel",
            "_view_count": null,
            "_view_module": "@jupyter-widgets/base",
            "_view_module_version": "2.0.0",
            "_view_name": "StyleView",
            "background": null,
            "description_width": "",
            "font_size": null,
            "text_color": null
          }
        }
      }
    }
  },
  "cells": [
    {
      "cell_type": "markdown",
      "metadata": {
        "id": "view-in-github",
        "colab_type": "text"
      },
      "source": [
        "<a href=\"https://colab.research.google.com/github/oliviasteeed/ChefGPT/blob/main/trying_LLM_fine_tuning.ipynb\" target=\"_parent\"><img src=\"https://colab.research.google.com/assets/colab-badge.svg\" alt=\"Open In Colab\"/></a>"
      ]
    },
    {
      "cell_type": "code",
      "source": [
        "# olivia attempt llm fine tuning"
      ],
      "metadata": {
        "id": "h_1uZeQjrQnN"
      },
      "execution_count": null,
      "outputs": []
    },
    {
      "cell_type": "code",
      "source": [
        "import torch\n",
        "from transformers import GPT2Tokenizer, GPT2LMHeadModel, Trainer, TrainingArguments\n",
        "from datasets import load_dataset, Dataset"
      ],
      "metadata": {
        "id": "VZbd4yX8rS29"
      },
      "execution_count": 26,
      "outputs": []
    },
    {
      "cell_type": "code",
      "source": [
        "# randomly sample 1000 rows from recipes dataset with like a million rows\n",
        "\n",
        "import pandas as pd\n",
        "\n",
        "# Define the path to your CSV file\n",
        "csv_file = '/Users/oliviasteed/Desktop/full_dataset.csv'\n",
        "\n",
        "# Load the CSV file into a pandas DataFrame\n",
        "df = pd.read_csv(csv_file)\n",
        "\n",
        "# Randomly sample 1000 rows\n",
        "sampled_df = df.sample(n=1000, random_state=42)  # random_state for reproducibility\n",
        "\n",
        "# Optionally, inspect the first few rows of the sampled data\n",
        "print(sampled_df.head())\n",
        "\n",
        "# Save the sampled rows to a new CSV file (optional)\n",
        "sampled_df.to_csv('/Users/oliviasteed/Desktop/1000_sample_dataset.csv', index=False)"
      ],
      "metadata": {
        "colab": {
          "base_uri": "https://localhost:8080/"
        },
        "id": "uK6NhJ-3hyY_",
        "outputId": "00893584-cd99-40f0-fd4b-7a1731083f53"
      },
      "execution_count": 40,
      "outputs": [
        {
          "output_type": "stream",
          "name": "stdout",
          "text": [
            "         Unnamed: 0                         title  \\\n",
            "2015528     2015528  Marinated Flank Steak Recipe   \n",
            "1608734     1608734           French Chicken Stew   \n",
            "778500       778500                Glazed Carrots   \n",
            "1334975     1334975               Moms Pie Dough    \n",
            "116562       116562      Pretzel Salad Or Dessert   \n",
            "\n",
            "                                               ingredients  \\\n",
            "2015528  [\"1 1/2 pound flank steak\", \"1/2 c. finely min...   \n",
            "1608734  [\"1 tablespoon rosemary\", \"1 teaspoon thyme\", ...   \n",
            "778500   [\"3 to 4 carrots\", \"1 1/2 Tbsp. butter\", \"1/3 ...   \n",
            "1334975  [\"4.5 Cups Flour\", \"1.5 Tsp Salt\", \"Pinch Baki...   \n",
            "116562   [\"2 c. crushed small thin pretzels (sticks)\", ...   \n",
            "\n",
            "                                                directions  \\\n",
            "2015528  [\"Remove tenderloin from steak.\", \"Score meat....   \n",
            "1608734  [\"combine all ingredients in slow cooker (6 qu...   \n",
            "778500   [\"Cook 3 to 4 carrots; cut crosswise in 1-inch...   \n",
            "1334975  [\"Mix all dry ingredients in a bowl.\", \"\", \"Ad...   \n",
            "116562   [\"Mix and press in baking pan, approximately 1...   \n",
            "\n",
            "                                                      link     source  \\\n",
            "2015528  cookeatshare.com/recipes/marinated-flank-steak...  Recipes1M   \n",
            "1608734  www.yummly.com/recipe/French-Chicken-Stew-1433580   Gathered   \n",
            "778500    www.cookbooks.com/Recipe-Details.aspx?id=1011892   Gathered   \n",
            "1334975  www.epicurious.com/recipes/member/views/moms-p...   Gathered   \n",
            "116562     www.cookbooks.com/Recipe-Details.aspx?id=106723   Gathered   \n",
            "\n",
            "                                                       NER  \n",
            "2015528  [\"flank steak\", \"green onions\", \"red wine\", \"s...  \n",
            "1608734  [\"rosemary\", \"thyme\", \"bay leaves\", \"paprika\",...  \n",
            "778500   [\"carrots\", \"butter\", \"brown sugar\", \"lemon ri...  \n",
            "1334975  [\"Flour\", \"Salt\", \"Baking Powder\", \"Sugar\", \"C...  \n",
            "116562                      [\"thin pretzels\", \"margarine\"]  \n"
          ]
        }
      ]
    },
    {
      "cell_type": "code",
      "source": [
        "# IMPORT DATA\n",
        "\n",
        "# If your data is in a CSV file:\n",
        "# from datasets import Dataset\n",
        "\n",
        "# Replace this with the path to your dataset\n",
        "data = Dataset.from_csv(\"/Users/oliviasteed/Desktop/1000_sample_dataset.csv\") #has recipes"
      ],
      "metadata": {
        "id": "ZG4OU0GgrUli"
      },
      "execution_count": 44,
      "outputs": []
    },
    {
      "cell_type": "code",
      "source": [
        "data"
      ],
      "metadata": {
        "colab": {
          "base_uri": "https://localhost:8080/"
        },
        "id": "usP1ZqVhivTM",
        "outputId": "f584fa5d-6183-4d43-f663-d316d0a5c407"
      },
      "execution_count": 45,
      "outputs": [
        {
          "output_type": "execute_result",
          "data": {
            "text/plain": [
              "Dataset({\n",
              "    features: ['Unnamed: 0', 'title', 'ingredients', 'directions', 'link', 'source', 'NER'],\n",
              "    num_rows: 1000\n",
              "})"
            ]
          },
          "metadata": {},
          "execution_count": 45
        }
      ]
    },
    {
      "cell_type": "code",
      "source": [
        "# Assuming 'column_name1' and 'column_name2' are the columns you want to remove\n",
        "data = data.remove_columns(['link', 'source', 'Unnamed: 0'])"
      ],
      "metadata": {
        "id": "DoU75Pefs-Ez"
      },
      "execution_count": 46,
      "outputs": []
    },
    {
      "cell_type": "code",
      "source": [
        "# SPLIT DATASET INTO TEST AND TRAIN\n",
        "\n",
        "# Split dataset into training and validation sets (80% for training, 20% for validation)\n",
        "train_test_split = data.train_test_split(test_size=0.2)\n",
        "\n",
        "# Create training and validation datasets\n",
        "train_dataset = train_test_split['train']\n",
        "val_dataset = train_test_split['test']"
      ],
      "metadata": {
        "id": "Gu52Wug2eE0n"
      },
      "execution_count": 47,
      "outputs": []
    },
    {
      "cell_type": "code",
      "source": [
        "# PREPROCESS THE DATA\n",
        "\n",
        "tokenizer = GPT2Tokenizer.from_pretrained(\"gpt2\")\n",
        "\n",
        "# Add a padding token to the tokenizer\n",
        "tokenizer.pad_token = tokenizer.eos_token\n",
        "\n",
        "# Tokenize the entire dataset\n",
        "def tokenize_function(examples):\n",
        "\n",
        "  text = [f\"{title} {ingredients} {directions}\" for title, ingredients, directions in zip(examples[\"title\"], examples[\"ingredients\"], examples[\"directions\"])]\n",
        "\n",
        "    # Tokenize the concatenated text\n",
        "  tokenized = tokenizer(text, padding=\"max_length\", truncation=True)\n",
        "\n",
        "     # Create labels (shifted input IDs)\n",
        "  tokenized[\"labels\"] = tokenized[\"input_ids\"].copy()\n",
        "\n",
        "  return tokenized\n",
        "\n",
        "    # return tokenizer(examples[\"title\", \"ingredients\", \"directions\"], padding=\"256\", truncation=True)\n",
        "\n",
        "tokenized_data = train_dataset.map(tokenize_function, batched=True) # Tokenize training data\n",
        "tokenized_val_dataset = val_dataset.map(tokenize_function, batched=True) # Tokenize validation data"
      ],
      "metadata": {
        "colab": {
          "base_uri": "https://localhost:8080/",
          "height": 17,
          "referenced_widgets": [
            "f3f408559cc74fd999bca19983bc5391",
            "7582a216023b4d0697bb00b259242f2f",
            "1929ede4108145399f89453e935f9fdf",
            "b3eda1b448c642f48229ed169f9fff33",
            "8a3b9ceb64334e939c5ec0eb3cc11a7f",
            "249573ccdf5c4364992238d90eeb8c85",
            "6649e19e5a574ff3a5f535061fbb7ec1",
            "69d27252bff14b20bc18defe47f0ce41",
            "5e79fb208dfc45d188a3494953b0b04e",
            "b1e36d56d44e446c9ac1d023e5a637f4",
            "a1473573f00744279b020ab0efb5917e",
            "e0a2f99fa94f48f583c54f137989ccfa",
            "3e0f04eb6913496485b2b7dea677ae39",
            "51c6339f32cd464ca23d5b555ecc7f0d",
            "9e8ad2b611354f0098a42a8034eb7c82",
            "45e2c3c4eccf4cf8a314342be8b514c2",
            "ef01f35b5d444beda6ef2bb3f24734d0",
            "41895390b29e4c8b83cc54ff74bcece0",
            "e593a2c2cbf049c48c6b2aaafe6ec255",
            "089587c43c234ec7b5c746461a00d353",
            "b54d3cd00d8d40be80c036a73aeddc5d",
            "555d217bfc0f4012828dd09e732d1264"
          ]
        },
        "id": "8o-j2Eqmrh8N",
        "outputId": "614dd6b5-7a9e-487b-93ae-0b9354f732c1"
      },
      "execution_count": 48,
      "outputs": [
        {
          "output_type": "display_data",
          "data": {
            "text/plain": [
              "Map:   0%|          | 0/800 [00:00<?, ? examples/s]"
            ],
            "application/vnd.jupyter.widget-view+json": {
              "version_major": 2,
              "version_minor": 0,
              "model_id": "f3f408559cc74fd999bca19983bc5391"
            }
          },
          "metadata": {}
        },
        {
          "output_type": "display_data",
          "data": {
            "text/plain": [
              "Map:   0%|          | 0/200 [00:00<?, ? examples/s]"
            ],
            "application/vnd.jupyter.widget-view+json": {
              "version_major": 2,
              "version_minor": 0,
              "model_id": "e0a2f99fa94f48f583c54f137989ccfa"
            }
          },
          "metadata": {}
        }
      ]
    },
    {
      "cell_type": "code",
      "source": [
        "# LOAD GPT MODEL\n",
        "\n",
        "model = GPT2LMHeadModel.from_pretrained(\"gpt2\")\n",
        "model.resize_token_embeddings(len(tokenizer))  # Resize if adding custom tokens"
      ],
      "metadata": {
        "colab": {
          "base_uri": "https://localhost:8080/"
        },
        "id": "kYhyKmTwrljj",
        "outputId": "d144877e-613c-4b53-c28e-c1c4d1712202"
      },
      "execution_count": 49,
      "outputs": [
        {
          "output_type": "execute_result",
          "data": {
            "text/plain": [
              "Embedding(50257, 768)"
            ]
          },
          "metadata": {},
          "execution_count": 49
        }
      ]
    },
    {
      "cell_type": "code",
      "source": [
        "# SET UP TRAINING ARGUMENTS\n",
        "\n",
        "training_args = TrainingArguments(\n",
        "    output_dir=\"/Users/oliviasteed/Desktop/chefgpt/gpt2_recipe_model\",  # Directory to save the model\n",
        "    overwrite_output_dir=True,\n",
        "    num_train_epochs=5,  # Adjust the number of epochs\n",
        "    per_device_train_batch_size=2,  # Adjust the batch size based on your GPU\n",
        "    logging_dir=\"./logs\",\n",
        "    logging_steps=200,\n",
        "    save_steps=500,\n",
        "    save_total_limit=2,\n",
        "    eval_steps=500,  # Evaluate on validation set every 500 steps\n",
        "    eval_strategy=\"steps\",  # Evaluate on validation set during training\n",
        ")"
      ],
      "metadata": {
        "colab": {
          "base_uri": "https://localhost:8080/"
        },
        "id": "0YaGgDtmrons",
        "outputId": "cf45edb1-640e-4d1d-a73c-0f029696d2d4"
      },
      "execution_count": 50,
      "outputs": [
        {
          "output_type": "stream",
          "name": "stderr",
          "text": [
            "comet_ml is installed but the Comet API Key is not configured. Please set the `COMET_API_KEY` environment variable to enable Comet logging. Check out the documentation for other ways of configuring it: https://www.comet.com/docs/v2/guides/experiment-management/configure-sdk/#set-the-api-key\n"
          ]
        }
      ]
    },
    {
      "cell_type": "code",
      "source": [
        "# TRAIN MODEL\n",
        "\n",
        "trainer = Trainer(\n",
        "    model=model,\n",
        "    args=training_args,\n",
        "    train_dataset = tokenized_data,\n",
        "    eval_dataset = val_dataset,\n",
        "    tokenizer = tokenizer,\n",
        ")\n",
        "\n",
        "trainer.train()"
      ],
      "metadata": {
        "colab": {
          "base_uri": "https://localhost:8080/",
          "height": 131
        },
        "id": "ToyA5R-Wrzc2",
        "outputId": "d90f7387-6db0-46d8-d323-f37c3475f2cd"
      },
      "execution_count": null,
      "outputs": [
        {
          "output_type": "stream",
          "name": "stderr",
          "text": [
            "/var/folders/36/hz9rs_n91md1nqwr2zl9rqdw0000gn/T/ipykernel_5807/2938572133.py:3: FutureWarning: `tokenizer` is deprecated and will be removed in version 5.0.0 for `Trainer.__init__`. Use `processing_class` instead.\n",
            "  trainer = Trainer(\n"
          ]
        },
        {
          "output_type": "display_data",
          "data": {
            "text/plain": [
              "<IPython.core.display.HTML object>"
            ],
            "text/html": [
              "\n",
              "    <div>\n",
              "      \n",
              "      <progress value='5' max='2000' style='width:300px; height:20px; vertical-align: middle;'></progress>\n",
              "      [   5/2000 02:38 < 29:17:00, 0.02 it/s, Epoch 0.01/5]\n",
              "    </div>\n",
              "    <table border=\"1\" class=\"dataframe\">\n",
              "  <thead>\n",
              " <tr style=\"text-align: left;\">\n",
              "      <th>Step</th>\n",
              "      <th>Training Loss</th>\n",
              "      <th>Validation Loss</th>\n",
              "    </tr>\n",
              "  </thead>\n",
              "  <tbody>\n",
              "  </tbody>\n",
              "</table><p>"
            ]
          },
          "metadata": {}
        }
      ]
    },
    {
      "cell_type": "code",
      "source": [
        "# SAVE FINE TUNED MODEL\n",
        "\n",
        "model.save_pretrained(\"/Users/oliviasteed/Desktop/ChefGPT/gpt2_recipe_model\")\n",
        "tokenizer.save_pretrained(\"/Users/oliviasteed/Desktop/ChefGPT/gpt2_recipe_model\")"
      ],
      "metadata": {
        "id": "9Ok72mgdr3iC"
      },
      "execution_count": null,
      "outputs": []
    },
    {
      "cell_type": "code",
      "source": [
        "# GENERATE RECIPES WITH MODEl\n",
        "\n",
        "# Load the fine-tuned model\n",
        "model = GPT2LMHeadModel.from_pretrained(\"./gpt2_recipe_model\")\n",
        "tokenizer = GPT2Tokenizer.from_pretrained(\"./gpt2_recipe_model\")\n",
        "\n",
        "# Function to generate a recipe based on ingredients\n",
        "def generate_recipe(ingredients):\n",
        "    prompt = f\"Recipe: {ingredients}\\nIngredients: {ingredients}\\nInstructions:\"\n",
        "    inputs = tokenizer(prompt, return_tensors=\"pt\")\n",
        "    outputs = model.generate(inputs[\"input_ids\"], max_length=200, num_return_sequences=1, no_repeat_ngram_size=2)\n",
        "    generated_text = tokenizer.decode(outputs[0], skip_special_tokens=True)\n",
        "    return generated_text\n",
        "\n",
        "# Example usage:\n",
        "ingredients = \"spaghetti, eggs, pancetta, Parmesan, black pepper\"\n",
        "recipe = generate_recipe(ingredients)\n",
        "print(recipe)"
      ],
      "metadata": {
        "id": "7YeEVkd5r8T4"
      },
      "execution_count": null,
      "outputs": []
    }
  ]
}